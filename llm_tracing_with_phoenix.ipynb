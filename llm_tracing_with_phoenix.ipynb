{
  "nbformat": 4,
  "nbformat_minor": 0,
  "metadata": {
    "colab": {
      "provenance": []
    },
    "kernelspec": {
      "name": "python3",
      "display_name": "Python 3"
    },
    "language_info": {
      "name": "python"
    }
  },
  "cells": [
    {
      "cell_type": "markdown",
      "source": [
        "# Установка библиотек"
      ],
      "metadata": {
        "id": "esiEO60q9ykN"
      }
    },
    {
      "cell_type": "code",
      "source": [
        "# Установка необходимых библиотек\n",
        "!pip install arize-phoenix openinference-instrumentation-mistralai mistralai pymupdf nltk"
      ],
      "metadata": {
        "collapsed": true,
        "id": "W6y7f1NDxVHh"
      },
      "execution_count": null,
      "outputs": []
    },
    {
      "cell_type": "markdown",
      "source": [
        "# Импорт библиотек"
      ],
      "metadata": {
        "id": "-4malA8q91O7"
      }
    },
    {
      "cell_type": "code",
      "source": [
        "# Импортируем библиотеки\n",
        "import phoenix as px\n",
        "from phoenix.otel import register\n",
        "import os\n",
        "from mistralai import Mistral\n",
        "from mistralai.models import UserMessage\n",
        "import fitz  # PyMuPDF для работы с PDF\n",
        "import re\n",
        "import nltk\n",
        "from nltk.corpus import stopwords\n",
        "from nltk.tokenize import word_tokenize"
      ],
      "metadata": {
        "id": "ZDgARLGVxYFG"
      },
      "execution_count": null,
      "outputs": []
    },
    {
      "cell_type": "markdown",
      "source": [
        "# Ресурсы для отчистки текста"
      ],
      "metadata": {
        "id": "r7FqD_2R9294"
      }
    },
    {
      "cell_type": "code",
      "source": [
        "# Скачиваем необходимые ресурсы\n",
        "nltk.download('punkt_tab')\n",
        "nltk.download('stopwords')"
      ],
      "metadata": {
        "id": "8GBvWQu20MuY"
      },
      "execution_count": null,
      "outputs": []
    },
    {
      "cell_type": "markdown",
      "source": [
        "# Запуск интерфейса Phoenix"
      ],
      "metadata": {
        "id": "0zwFDeBD98JL"
      }
    },
    {
      "cell_type": "code",
      "source": [
        "# Инициализация Phoenix\n",
        "px.launch_app()"
      ],
      "metadata": {
        "collapsed": true,
        "id": "PbZVb9v_0QYB"
      },
      "execution_count": null,
      "outputs": []
    },
    {
      "cell_type": "code",
      "source": [
        "# Регистрация трассировщика для Phoenix\n",
        "tracer_provider = register(\n",
        "  project_name=\"my-llm-app\",  # Можно оставить как 'default'\n",
        ")"
      ],
      "metadata": {
        "id": "hWrCNgBl7XuG"
      },
      "execution_count": null,
      "outputs": []
    },
    {
      "cell_type": "markdown",
      "source": [
        "# Используем mistral для генерации ответов"
      ],
      "metadata": {
        "id": "JXyv1lFk-AR5"
      }
    },
    {
      "cell_type": "code",
      "source": [
        "# Устанавливаем API-ключ для Mistral (в Google Colab вы можете использовать переменные окружения)\n",
        "# Введите ваш ключ в следующей строке\n",
        "os.environ[\"MISTRAL_API_KEY\"] = \"PglyBm40sXxMmjd2jFvRaOgoZAh1Nb0g\" #Ключ одноразовый, для работы замените на свой"
      ],
      "metadata": {
        "id": "oigsgU-W0Wfo"
      },
      "execution_count": null,
      "outputs": []
    },
    {
      "cell_type": "code",
      "source": [
        "# Создание клиента Mistral\n",
        "api_key = os.environ[\"MISTRAL_API_KEY\"]\n",
        "model = \"mistral-tiny\"\n",
        "\n",
        "client = Mistral(api_key=api_key)"
      ],
      "metadata": {
        "id": "AQHWQKdC0kmt"
      },
      "execution_count": null,
      "outputs": []
    },
    {
      "cell_type": "markdown",
      "source": [
        "# Загрузка книги \"Алиса в стране чудес\""
      ],
      "metadata": {
        "id": "NrT7_sqf-MsY"
      }
    },
    {
      "cell_type": "code",
      "source": [
        "# Скачиваем книгу \"Алиса в стране чудес\"\n",
        "!wget https://storage.yandexcloud.net/academy.ai/book/Alices-Adventures-in-Wonderland-by-Lewis-Carroll-PDF-Book.pdf"
      ],
      "metadata": {
        "id": "tgnDm0Bv25o5"
      },
      "execution_count": null,
      "outputs": []
    },
    {
      "cell_type": "markdown",
      "source": [
        "# Предобработка книги для уменьшения вероятности галлюцинации"
      ],
      "metadata": {
        "id": "MvyR10yy-QcZ"
      }
    },
    {
      "cell_type": "code",
      "source": [
        "# Открываем PDF файл\n",
        "pdf_path = \"Alices-Adventures-in-Wonderland-by-Lewis-Carroll-PDF-Book.pdf\"\n",
        "doc = fitz.open(pdf_path)"
      ],
      "metadata": {
        "id": "tfg9_9lC29oe"
      },
      "execution_count": null,
      "outputs": []
    },
    {
      "cell_type": "code",
      "source": [
        "# Извлекаем текст из всех страниц\n",
        "raw_text = \"\"\n",
        "for page_num in range(doc.page_count):\n",
        "    page = doc.load_page(page_num)\n",
        "    raw_text += page.get_text()"
      ],
      "metadata": {
        "id": "-Skn5ncH3Yht"
      },
      "execution_count": null,
      "outputs": []
    },
    {
      "cell_type": "code",
      "source": [
        "# Очистка текста: удаление специальных символов, стоп-слов\n",
        "def clean_text(text):\n",
        "    # Удаление специальных символов и чисел\n",
        "    text = re.sub(r'[^A-Za-z\\s]', '', text)\n",
        "\n",
        "    # Преобразуем в нижний регистр\n",
        "    text = text.lower()\n",
        "\n",
        "    # Токенизация текста\n",
        "    tokens = word_tokenize(text)\n",
        "\n",
        "    # Удаляем стоп-слова\n",
        "    stop_words = set(stopwords.words('english'))\n",
        "    filtered_tokens = [word for word in tokens if word not in stop_words]\n",
        "\n",
        "    # Воссоздаем текст\n",
        "    cleaned_text = ' '.join(filtered_tokens)\n",
        "    return cleaned_text"
      ],
      "metadata": {
        "id": "APcinl293au5"
      },
      "execution_count": null,
      "outputs": []
    },
    {
      "cell_type": "code",
      "source": [
        "# Очищаем текст перед подачей в модель\n",
        "cleaned_text = clean_text(raw_text)"
      ],
      "metadata": {
        "id": "yybJn83w7kq5"
      },
      "execution_count": null,
      "outputs": []
    },
    {
      "cell_type": "markdown",
      "source": [
        "# Запрос к модели"
      ],
      "metadata": {
        "id": "y6XaOhIT-YAp"
      }
    },
    {
      "cell_type": "code",
      "source": [
        "# Пример промпта с указанием на признание неопределенности\n",
        "prompt = f\"Please summarize the following text. If you are unsure about something, please say 'I don't know'. {cleaned_text[:1000]}\""
      ],
      "metadata": {
        "id": "LInCIxzs71aQ"
      },
      "execution_count": null,
      "outputs": []
    },
    {
      "cell_type": "code",
      "source": [
        "# Отправка запроса модели\n",
        "chat_response = client.chat.complete(\n",
        "    model=model,\n",
        "    messages=[UserMessage(content=prompt)]\n",
        ")\n",
        "\n",
        "# Печатаем ответ модели\n",
        "print(chat_response.choices[0].message.content)"
      ],
      "metadata": {
        "id": "fnNAM1hW73L-"
      },
      "execution_count": null,
      "outputs": []
    },
    {
      "cell_type": "markdown",
      "source": [
        "# Итог"
      ],
      "metadata": {
        "id": "Xv0CD47O9kNF"
      }
    },
    {
      "cell_type": "markdown",
      "source": [
        "Интерфейс Phoenix показывает следующие результаты:\n",
        "\n",
        "## LLM Input\n",
        "\n",
        "```json\n",
        "{\n",
        "  \"model\": \"mistral-tiny\",\n",
        "  \"messages\": [\n",
        "    {\n",
        "      \"content\": \"Please summarize the following text. If you are unsure about something, please say 'I don't know'. alices adventures wonderland lewis carroll project gutenberg ebook alices adventures wonderland ebook use anyone anywhere united states parts world cost almost restrictions whatsoever may copy give away reuse terms project gutenberg license included ebook online wwwgutenbergorg located united states check laws country located using ebook hope enjoyed reading come back httpslearnenglishnewcom find fascinating exciting stories httpslearnenglishnewcom alices adventures wonderland lewis carroll millennium fulcrum edition contents chapter rabbithole chapter ii pool tears chapter iii caucusrace long tale chapter iv rabbit sends little bill chapter v advice caterpillar chapter vi pig pepper chapter vii mad teaparty chapter viii queens croquetground chapter ix mock turtles story chapter x lobster quadrille chapter xi stole tarts chapter xii alices evidence chapter rabbithole alice beginning get tired sitting sister bank nothing twice peeped book sister reading pictures conversations use book t\",\n",
        "      \"role\": \"user\"\n",
        "    }\n",
        "  ],\n",
        "  \"temperature\": \"\",\n",
        "  \"max_tokens\": \"\",\n",
        "  \"stream\": false,\n",
        "  \"random_seed\": \"\",\n",
        "  \"tools\": \"\",\n",
        "  \"n\": \"\",\n",
        "  \"retries\": \"\"\n",
        "}\n",
        "```\n",
        "\n",
        "## assistant\n",
        "\n",
        "```json\n",
        "The text is about the Project Gutenberg eBook of \"Alice's Adventures in Wonderland\" by Lewis Carroll. The eBook is free and can be copied, given away, reused, and shared with no restrictions whatsoever. It can be found online at projectgutenberg.org. The text also mentions that the laws in different countries may apply when using the eBook. The Millennium Fulcrum edition of the book has various chapters, such as \"The Rabbit Hole,\" \"Pool of Tears,\" \"The Caucus Race,\" and \"The Mad Tea-Party.\" Alice, the protagonist, begins her adventure when she gets tired of sitting by the bank and looking at her sister reading pictures in the book. She peeps at the book and starts talking to the characters in the conversations.\n",
        "```"
      ],
      "metadata": {
        "id": "77_S_g9M-gtt"
      }
    },
    {
      "cell_type": "markdown",
      "source": [
        "Вывод: Модель обработала текст из книги \"Алиса в Стране Чудес\" Льюиса Кэрролла, предоставленный в запросе, который является частью лицензированного проекта Project Gutenberg. Текст описывает различные главы книги, начиная с того, как Алиса попадает в кроличью нору, и заканчивая такими ключевыми моментами, как её участие в безумной чайной вечеринке и суде."
      ],
      "metadata": {
        "id": "A7gJ5b4M_2oo"
      }
    }
  ]
}